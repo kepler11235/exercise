{
 "cells": [
  {
   "cell_type": "markdown",
   "metadata": {},
   "source": [
    "## 设计基函数(basis function) 以及数据读取"
   ]
  },
  {
   "cell_type": "code",
   "execution_count": 1,
   "metadata": {},
   "outputs": [],
   "source": [
    "import numpy as np\n",
    "import matplotlib.pyplot as plt\n",
    "\n",
    "def identity_basis(x):\n",
    "    ret = np.expand_dims(x, axis=1)\n",
    "    return ret\n",
    "\n",
    "def multinomial_basis(x, feature_num=10):\n",
    "    x = np.expand_dims(x, axis=1) # shape(N, 1)\n",
    "    feat = [x]\n",
    "    for i in range(2, feature_num+1):\n",
    "        feat.append(x**i)\n",
    "    ret = np.concatenate(feat, axis=1)\n",
    "    return ret\n",
    "\n",
    "def gaussian_basis(x, feature_num=10):\n",
    "    centers = np.linspace(0, 25, feature_num)\n",
    "    width = 1.0 * (centers[1] - centers[0])\n",
    "    x = np.expand_dims(x, axis=1)\n",
    "    x = np.concatenate([x]*feature_num, axis=1)\n",
    "    \n",
    "    out = (x-centers)/width\n",
    "    ret = np.exp(-0.5 * out ** 2)\n",
    "    return ret\n",
    "\n",
    "def load_data(filename, basis_func=gaussian_basis):\n",
    "    \"\"\"载入数据。\"\"\"\n",
    "    xys = []\n",
    "    with open(filename, 'r') as f:\n",
    "        for line in f:\n",
    "            xys.append(map(float, line.strip().split()))\n",
    "        xs, ys = zip(*xys)\n",
    "        xs, ys = np.asarray(xs), np.asarray(ys)\n",
    "        \n",
    "        o_x, o_y = xs, ys\n",
    "        phi0 = np.expand_dims(np.ones_like(xs), axis=1)\n",
    "        phi1 = basis_func(xs)\n",
    "        xs = np.concatenate([phi0, phi1], axis=1)\n",
    "        return (np.float32(xs), np.float32(ys)), (o_x, o_y)"
   ]
  },
  {
   "cell_type": "markdown",
   "metadata": {},
   "source": [
    "## 定义模型"
   ]
  },
  {
   "cell_type": "code",
   "execution_count": 2,
   "metadata": {},
   "outputs": [],
   "source": [
    "import tensorflow as tf\n",
    "from tensorflow.keras import optimizers, layers, Model\n",
    "\n",
    "class linearModel(Model):\n",
    "    def __init__(self, ndim):\n",
    "        super(linearModel, self).__init__()\n",
    "        self.w = tf.Variable(\n",
    "            shape=[ndim, 1], \n",
    "            initial_value=tf.random.uniform(\n",
    "                [ndim,1], minval=-0.1, maxval=0.1, dtype=tf.float32))\n",
    "        \n",
    "    @tf.function\n",
    "    def call(self, x):\n",
    "        y = tf.squeeze(tf.matmul(x, self.w), axis=1)\n",
    "        return y\n",
    "\n",
    "(xs, ys), (o_x, o_y) = load_data('train.txt')        \n",
    "ndim = xs.shape[1]\n",
    "\n",
    "model = linearModel(ndim=ndim)\n"
   ]
  },
  {
   "cell_type": "markdown",
   "metadata": {},
   "source": [
    "## 训练以及评估"
   ]
  },
  {
   "cell_type": "code",
   "execution_count": 3,
   "metadata": {},
   "outputs": [],
   "source": [
    "optimizer = optimizers.Adam(0.1)\n",
    "@tf.function\n",
    "def train_one_step(model, xs, ys):\n",
    "    with tf.GradientTape() as tape:\n",
    "        y_preds = model(xs)\n",
    "        loss = tf.reduce_mean(tf.sqrt(1e-12+(ys-y_preds)**2))\n",
    "    grads = tape.gradient(loss, model.w)\n",
    "    optimizer.apply_gradients([(grads, model.w)])\n",
    "    return loss\n",
    "\n",
    "@tf.function\n",
    "def predict(model, xs):\n",
    "    y_preds = model(xs)\n",
    "    return y_preds\n",
    "\n",
    "def evaluate(ys, ys_pred):\n",
    "    \"\"\"评估模型。\"\"\"\n",
    "    std = np.sqrt(np.mean(np.abs(ys - ys_pred) ** 2))\n",
    "    return std"
   ]
  },
  {
   "cell_type": "code",
   "execution_count": null,
   "metadata": {},
   "outputs": [
    {
     "name": "stdout",
     "output_type": "stream",
     "text": [
      "loss is 11.88\n",
      "loss is 2.752\n",
      "loss is 1.65\n",
      "loss is 1.623\n",
      "loss is 1.605\n",
      "loss is 1.587\n",
      "loss is 1.567\n",
      "loss is 1.548\n",
      "loss is 1.527\n",
      "loss is 1.506\n"
     ]
    }
   ],
   "source": [
    "for i in range(1000):\n",
    "    loss = train_one_step(model, xs, ys)\n",
    "    if i % 100 == 1:\n",
    "        print(f'loss is {loss:.4}')\n",
    "        \n",
    "        \n",
    "y_preds = predict(model, xs)\n",
    "std = evaluate(ys, y_preds)\n",
    "print('训练集预测值与真实值的标准差：{:.1f}'.format(std))\n",
    "\n",
    "(xs_test, ys_test), (o_x_test, o_y_test) = load_data('test.txt')\n",
    "\n",
    "y_test_preds = predict(model, xs_test)\n",
    "std = evaluate(ys_test, y_test_preds)\n",
    "print('训练集预测值与真实值的标准差：{:.1f}'.format(std))\n",
    "\n",
    "plt.plot(o_x, o_y, 'ro', markersize=3)\n",
    "plt.plot(o_x_test, y_test_preds, 'k')\n",
    "plt.xlabel('x')\n",
    "plt.ylabel('y')\n",
    "plt.title('Linear Regression')\n",
    "plt.legend(['train', 'test', 'pred'])\n",
    "plt.show()\n"
   ]
  },
  {
   "cell_type": "code",
   "execution_count": null,
   "metadata": {},
   "outputs": [],
   "source": []
  }
 ],
 "metadata": {
  "kernelspec": {
   "display_name": "Python 3",
   "language": "python",
   "name": "python3"
  },
  "language_info": {
   "codemirror_mode": {
    "name": "ipython",
    "version": 3
   },
   "file_extension": ".py",
   "mimetype": "text/x-python",
   "name": "python",
   "nbconvert_exporter": "python",
   "pygments_lexer": "ipython3",
   "version": "3.7.7"
  }
 },
 "nbformat": 4,
 "nbformat_minor": 2
}
